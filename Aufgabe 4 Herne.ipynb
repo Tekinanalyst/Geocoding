{
 "cells": [
  {
   "attachments": {},
   "cell_type": "markdown",
   "metadata": {},
   "source": [
    "Polygon-Beispiel"
   ]
  },
  {
   "cell_type": "code",
   "execution_count": 26,
   "metadata": {},
   "outputs": [],
   "source": [
    "from geopy import distance\n",
    "import geocoder\n",
    "import geopy\n",
    "import geographiclib\n",
    "import folium\n",
    "import pandas as pd\n",
    "import webbrowser"
   ]
  },
  {
   "cell_type": "code",
   "execution_count": 33,
   "metadata": {},
   "outputs": [
    {
     "data": {
      "text/plain": [
       "True"
      ]
     },
     "execution_count": 33,
     "metadata": {},
     "output_type": "execute_result"
    }
   ],
   "source": [
    "#Karte erstellen\n",
    "map = folium.Map(location=[51.54011121457646, 7.257463929261586], zoom_start=13)\n",
    "\n",
    "polygon_points = [[51.541118, 7.204602],\n",
    "               [51.556666, 7.280458],\n",
    "               [51.544099, 7.290767],\n",
    "               [51.525940, 7.286480],\n",
    "               [51.522243, 7.216608],\n",
    "               [51.538097, 7.207287]]\n",
    "\n",
    "#transparentes overlay auf der Karte\n",
    "folium.Polygon(polygon_points, color='red', fill=False, weight=2).add_to(map)\n",
    "\n",
    "#Bestand der Läden\n",
    "\n",
    "folium.Marker(location=[51.54003323955315, 7.255462725646208], popup='Edeka Ziob').add_to(map)\n",
    "folium.Circle(location=[51.54003323955315, 7.255462725646208], radius=300,color='green',fill=False).add_to(map)\n",
    "\n",
    "folium.Marker(location=[51.54163619565514, 7.265771842767679], popup='Aldi 1').add_to(map)\n",
    "folium.Circle(location=[51.54163619565514, 7.265771842767679], radius=300,color='green',fill=False).add_to(map)\n",
    "\n",
    "folium.Marker(location=[51.5480791921843, 7.266333230271698], popup='Netto').add_to(map)\n",
    "folium.Circle(location=[51.5480791921843, 7.266333230271698], radius=300,color='green',fill=False).add_to(map)\n",
    "\n",
    "folium.Marker(location=[51.54933277272818, 7.279321696975217], popup='Edeka Krüger').add_to(map)\n",
    "folium.Circle(location=[51.54933277272818, 7.279321696975217], radius=300,color='green',fill=False).add_to(map)\n",
    "\n",
    "folium.Marker(location=[51.54663515166783, 7.240458367182967], popup='Aldi 2').add_to(map)\n",
    "folium.Circle(location=[51.54663515166783, 7.240458367182967], radius=300,color='green',fill=False).add_to(map)\n",
    "\n",
    "folium.Marker(location=[51.536604945884065, 7.231680307151329], popup='Lidl').add_to(map)\n",
    "folium.Circle(location=[51.536604945884065, 7.231680307151329], radius=300,color='green',fill=False).add_to(map)\n",
    "\n",
    "folium.Marker(location=[51.532208098646635, 7.22576022024169], popup='Rewe').add_to(map)\n",
    "folium.Circle(location=[51.532208098646635, 7.22576022024169], radius=300,color='green',fill=False).add_to(map)\n",
    "\n",
    "\n",
    "#Beispiele wo man Eröffnen könnte\n",
    "folium.Marker(\n",
    "    [51.53417624483037, 7.256396781471226], popup='Tipp 1', icon=folium.Icon(color='red', icon='info-sign')\n",
    ").add_to(map)\n",
    "\n",
    "folium.Marker(\n",
    "    [51.539874, 7.239172], popup='Tipp 2', icon=folium.Icon(color='red', icon='info-sign')\n",
    ").add_to(map)\n",
    "\n",
    "folium.Marker(\n",
    "    [51.549729, 7.253820], popup='Tipp 3', icon=folium.Icon(color='red', icon='info-sign')\n",
    ").add_to(map)\n",
    "\n",
    "#Auf der Karte Anzeigen\n",
    "map.save('map.html')\n",
    "webbrowser.open('map.html')"
   ]
  }
 ],
 "metadata": {
  "kernelspec": {
   "display_name": "Python 3",
   "language": "python",
   "name": "python3"
  },
  "language_info": {
   "codemirror_mode": {
    "name": "ipython",
    "version": 3
   },
   "file_extension": ".py",
   "mimetype": "text/x-python",
   "name": "python",
   "nbconvert_exporter": "python",
   "pygments_lexer": "ipython3",
   "version": "3.11.0"
  },
  "orig_nbformat": 4,
  "vscode": {
   "interpreter": {
    "hash": "54acb503656e08b15a00a6c8707d27ff4367a211a2376b380f9f0b4b4f04fdef"
   }
  }
 },
 "nbformat": 4,
 "nbformat_minor": 2
}
